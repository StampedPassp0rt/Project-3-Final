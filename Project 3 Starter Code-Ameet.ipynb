{
 "cells": [
  {
   "cell_type": "markdown",
   "metadata": {},
   "source": [
    "# Getting started\n",
    "\n",
    "Once you've chosen your scenario, download the data from [the Iowa website](https://data.iowa.gov/Economy/Iowa-Liquor-Sales/m3tr-qhgy) in csv format. Start by loading the data with pandas. You may need to parse the date columns appropriately."
   ]
  },
  {
   "cell_type": "code",
   "execution_count": 3,
   "metadata": {
    "collapsed": false
   },
   "outputs": [],
   "source": [
    "import pandas as pd\n",
    "\n",
    "## Load the data into a DataFrame\n",
    "# pd.read_csv()\n",
    "\n",
    "## Transform the dates if needed, e.g.\n",
    "# df[\"Date\"] = pd.to_datetime(df[\"Date\"], format=\"%m-%d-%y\")\n",
    "\n",
    "'''Please see Lab 3.3 for all the transformations.'''\n",
    "\n"
   ]
  },
  {
   "cell_type": "markdown",
   "metadata": {},
   "source": [
    "# Explore the data\n",
    "\n",
    "Perform some exploratory statistical analysis and make some plots, such as histograms of transaction totals, bottles sold, etc."
   ]
  },
  {
   "cell_type": "code",
   "execution_count": 4,
   "metadata": {
    "collapsed": true
   },
   "outputs": [],
   "source": [
    "import seaborn as sns\n",
    "import matplotlib.pyplot as plot\n",
    "\n",
    "''' Please see Lab 3.4 for plots.'''"
   ]
  },
  {
   "cell_type": "markdown",
   "metadata": {},
   "source": [
    "## Record your findings\n",
    "\n",
    "Be sure to write out anything observations from your exploratory analysis."
   ]
  },
  {
   "cell_type": "markdown",
   "metadata": {},
   "source": [
    "1) Mean Price and Mean Volume are correlated.\n",
    "\n",
    "2) Dallas, Dickinson and Polk were the top three counties by sales per store (though Polk county also had one of the higher amounts of closed stores)."
   ]
  },
  {
   "cell_type": "markdown",
   "metadata": {},
   "source": [
    "# Mine the data\n",
    "Now you are ready to compute the variables you will use for your regression from the data. For example, you may want to\n",
    "compute total sales per store from Jan to March of 2015, mean price per bottle, etc. Refer to the readme for more ideas appropriate to your scenario.\n",
    "\n",
    "Pandas is your friend for this task. Take a look at the operations [here](http://pandas.pydata.org/pandas-docs/stable/groupby.html) for ideas on how to make the best use of pandas and feel free to search for blog and Stack Overflow posts to help you group data by certain variables and compute sums, means, etc. You may find it useful to create a new data frame to house this summary data."
   ]
  },
  {
   "cell_type": "markdown",
   "metadata": {},
   "source": [
    "# Refine the data\n",
    "Look for any statistical relationships, correlations, or other relevant properties of the dataset."
   ]
  },
  {
   "cell_type": "code",
   "execution_count": null,
   "metadata": {
    "collapsed": true
   },
   "outputs": [],
   "source": []
  },
  {
   "cell_type": "markdown",
   "metadata": {},
   "source": [
    "# Build your models\n",
    "\n",
    "Using scikit-learn or statsmodels, build the necessary models for your scenario. Evaluate model fit."
   ]
  },
  {
   "cell_type": "code",
   "execution_count": 1,
   "metadata": {
    "collapsed": false
   },
   "outputs": [
    {
     "data": {
      "text/plain": [
       "'See Lab 3.4. For me at least, model fit was terrible. City, County and Zip did not add value - the p-values were so high that the conclusion is that it does not matter which county, what matters is pricing, category, and data not in the model'"
      ]
     },
     "execution_count": 1,
     "metadata": {},
     "output_type": "execute_result"
    }
   ],
   "source": [
    "from sklearn import linear_model\n",
    "\n",
    "'''See Lab 3.4. For me at least, model fit was terrible. City, County and Zip did not add value - the p-values were so high that the conclusion is that it does not matter which county, what matters is pricing, category, and data not in the model'''\n"
   ]
  },
  {
   "cell_type": "markdown",
   "metadata": {},
   "source": [
    "## Plot your results\n",
    "\n",
    "Again make sure that you record any valuable information. For example, in the tax scenario, did you find the sales from the first three months of the year to be a good predictor of the total sales for the year? Plot the predictions versus the true values and discuss the successes and limitations of your models"
   ]
  },
  {
   "cell_type": "code",
   "execution_count": null,
   "metadata": {
    "collapsed": true
   },
   "outputs": [],
   "source": [
    "'''See at end of Lab 3.4.'''"
   ]
  },
  {
   "cell_type": "markdown",
   "metadata": {},
   "source": [
    "# Present the Results\n",
    "\n",
    "Present your conclusions and results. If you have more than one interesting model feel free to include more than one along with a discussion. Use your work in this notebook to prepare your write-up."
   ]
  },
  {
   "cell_type": "markdown",
   "metadata": {
    "collapsed": true
   },
   "source": [
    "My recommendation for the Iowan store owner is that if he expands, he should consider expanding to whichever city or county he wants to be in.\n",
    "\n",
<<<<<<< HEAD
    "The reason is that in every single regression run, the location did not seem to matter for sales. This is counterintuitive to real estate logic (and that granular a type of data is not in the dataset).\n",
    "\n",
    "In fact, while sales = price * volume, there was no good model for volume. And models for sales did not work either. If they were predictive -i.e. Q1 2015 sales predicting 2015 sales reasonably well, there was a strong element of useless signal in there, since a model was using a quarter of its results to predict its results. To use Q1 2015 sales to predict total 2015 sales seems odd since you already have Q1 fully explained.\n",
=======
    "The reason is that in every single regression run, the location did not seem to matter for sales. While counterintuitive to real estate logic (and that granular a type of data is not in the dataset), the upside is that pricing and category selection can help in optimizing sales in a new location.\n",
    "\n",
    "From my regressions, tequila and various vodkas were best selling categories. Combined with pricing, this should help with maximizing sales irrespective of location.\n",
>>>>>>> 8d0ae40e7ebbdcc83f762f3cdc8330212775d803
    "\n",
    "As a note, while liquor store owners in other counties may be worried about the competition if my client enters that county, the fact is that no county had higher or lower odds of success. It comes down to the personal decisions of the store owner on pricing and category (and presumably marketing, though the data does not contain this).\n",
    "\n",
    "I would reference the plot of the poor fit of the prediction to the actual to prove that. I would also reference the correlation heatmap and a pairplot of correlation of average price per liter to average volume sold to show how pricing impacts volume, which is directly correlated with sales.\n",
    "\n",
    "As a follow-up for my client, unfortunately no model worked out well. I would advise on compiling demographic data to see if it would help better predict where there is demand."
   ]
  }
 ],
 "metadata": {
  "kernelspec": {
   "display_name": "Python 2",
   "language": "python",
   "name": "python2"
  },
  "language_info": {
   "codemirror_mode": {
    "name": "ipython",
    "version": 2
   },
   "file_extension": ".py",
   "mimetype": "text/x-python",
   "name": "python",
   "nbconvert_exporter": "python",
   "pygments_lexer": "ipython2",
   "version": "2.7.11"
  }
 },
 "nbformat": 4,
 "nbformat_minor": 0
}
